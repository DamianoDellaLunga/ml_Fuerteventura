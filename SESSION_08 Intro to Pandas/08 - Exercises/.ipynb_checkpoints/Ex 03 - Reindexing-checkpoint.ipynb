{
 "cells": [
  {
   "cell_type": "markdown",
   "metadata": {},
   "source": [
    "# Intro to Pandas\n",
    "\n",
    "## Reindex Exercises"
   ]
  },
  {
   "cell_type": "markdown",
   "metadata": {},
   "source": [
    "Import Pandas and Numpy"
   ]
  },
  {
   "cell_type": "code",
   "execution_count": 2,
   "metadata": {},
   "outputs": [],
   "source": [
    "# Basic Imports\n",
    "\n",
    "import pandas as pd\n",
    "import numpy as np\n",
    "from pandas import Series, DataFrame\n",
    "import pandas as pd\n",
    "import numpy as np"
   ]
  },
  {
   "cell_type": "markdown",
   "metadata": {},
   "source": [
    "### .reindex() method\n",
    "\n",
    "1. Create a series from range 1 to 6 and index every value with the letter from \"A\" to \"F\"."
   ]
  },
  {
   "cell_type": "code",
   "execution_count": 3,
   "metadata": {},
   "outputs": [],
   "source": [
    "# Lets create a new series\n",
    "ser1 = Series([1,2,3,4],index=['A','B','C','D'])"
   ]
  },
  {
   "cell_type": "code",
   "execution_count": 4,
   "metadata": {},
   "outputs": [
    {
     "data": {
      "text/plain": [
       "A    1\n",
       "B    2\n",
       "C    3\n",
       "D    4\n",
       "dtype: int64"
      ]
     },
     "execution_count": 4,
     "metadata": {},
     "output_type": "execute_result"
    }
   ],
   "source": [
    "# print the ser1\n",
    "ser1="
   ]
  },
  {
   "cell_type": "markdown",
   "metadata": {},
   "source": [
    " 2. Reindex the series and adding the letters \"G\" and \"H\""
   ]
  },
  {
   "cell_type": "code",
   "execution_count": 5,
   "metadata": {},
   "outputs": [],
   "source": [
    "# Reindex the ser1\n",
    "ser2 = ser1.reindex(index=['A','B','C','D','G','H'])"
   ]
  },
  {
   "cell_type": "code",
   "execution_count": 6,
   "metadata": {},
   "outputs": [
    {
     "data": {
      "text/plain": [
       "A    1.0\n",
       "B    2.0\n",
       "C    3.0\n",
       "D    4.0\n",
       "G    NaN\n",
       "H    NaN\n",
       "dtype: float64"
      ]
     },
     "execution_count": 6,
     "metadata": {},
     "output_type": "execute_result"
    }
   ],
   "source": [
    "# print the ser2\n",
    "ser2"
   ]
  },
  {
   "cell_type": "markdown",
   "metadata": {},
   "source": [
    "3. Reindex the ser2 with the letter \"Z\" and fill it with the value 100."
   ]
  },
  {
   "cell_type": "code",
   "execution_count": 9,
   "metadata": {},
   "outputs": [
    {
     "data": {
      "text/plain": [
       "A      1.0\n",
       "B      2.0\n",
       "C      3.0\n",
       "D      4.0\n",
       "G      NaN\n",
       "H      NaN\n",
       "Z    100.0\n",
       "dtype: float64"
      ]
     },
     "execution_count": 9,
     "metadata": {},
     "output_type": "execute_result"
    }
   ],
   "source": [
    "# Reindex ser2\n",
    "ser2=ser2.reindex(index=['A','B','C','D','G','H','Z'], fill_value=100)\n",
    "ser2"
   ]
  },
  {
   "cell_type": "markdown",
   "metadata": {},
   "source": [
    "### Reindexing rows and columns of DF"
   ]
  },
  {
   "cell_type": "code",
   "execution_count": 10,
   "metadata": {},
   "outputs": [
    {
     "data": {
      "text/html": [
       "<div>\n",
       "<style scoped>\n",
       "    .dataframe tbody tr th:only-of-type {\n",
       "        vertical-align: middle;\n",
       "    }\n",
       "\n",
       "    .dataframe tbody tr th {\n",
       "        vertical-align: top;\n",
       "    }\n",
       "\n",
       "    .dataframe thead th {\n",
       "        text-align: right;\n",
       "    }\n",
       "</style>\n",
       "<table border=\"1\" class=\"dataframe\">\n",
       "  <thead>\n",
       "    <tr style=\"text-align: right;\">\n",
       "      <th></th>\n",
       "      <th>CL1</th>\n",
       "      <th>CL2</th>\n",
       "      <th>CL3</th>\n",
       "      <th>CL4</th>\n",
       "    </tr>\n",
       "  </thead>\n",
       "  <tbody>\n",
       "    <tr>\n",
       "      <th>A</th>\n",
       "      <td>0.640699</td>\n",
       "      <td>-0.006177</td>\n",
       "      <td>-0.250094</td>\n",
       "      <td>1.202516</td>\n",
       "    </tr>\n",
       "    <tr>\n",
       "      <th>D</th>\n",
       "      <td>-0.904062</td>\n",
       "      <td>0.748743</td>\n",
       "      <td>0.615914</td>\n",
       "      <td>0.847730</td>\n",
       "    </tr>\n",
       "    <tr>\n",
       "      <th>E</th>\n",
       "      <td>-0.491603</td>\n",
       "      <td>-0.627327</td>\n",
       "      <td>1.490700</td>\n",
       "      <td>-2.007773</td>\n",
       "    </tr>\n",
       "    <tr>\n",
       "      <th>F</th>\n",
       "      <td>0.334444</td>\n",
       "      <td>1.964098</td>\n",
       "      <td>-0.261792</td>\n",
       "      <td>0.155713</td>\n",
       "    </tr>\n",
       "    <tr>\n",
       "      <th>G</th>\n",
       "      <td>3.213473</td>\n",
       "      <td>-1.573144</td>\n",
       "      <td>0.402144</td>\n",
       "      <td>-1.926897</td>\n",
       "    </tr>\n",
       "  </tbody>\n",
       "</table>\n",
       "</div>"
      ],
      "text/plain": [
       "        CL1       CL2       CL3       CL4\n",
       "A  0.640699 -0.006177 -0.250094  1.202516\n",
       "D -0.904062  0.748743  0.615914  0.847730\n",
       "E -0.491603 -0.627327  1.490700 -2.007773\n",
       "F  0.334444  1.964098 -0.261792  0.155713\n",
       "G  3.213473 -1.573144  0.402144 -1.926897"
      ]
     },
     "execution_count": 10,
     "metadata": {},
     "output_type": "execute_result"
    }
   ],
   "source": [
    "# Import numpy random.randn\n",
    "from numpy.random import randn\n",
    "randn_data = randn(20).reshape((5,4))\n",
    "\n",
    "#Lets make a datafram ewith some random values\n",
    "df1 = DataFrame(data = randn_data, index=['A','D','E','F','G'], columns=['CL1','CL2','CL3','CL4'])\n",
    "\n",
    "#Show\n",
    "df1"
   ]
  },
  {
   "cell_type": "markdown",
   "metadata": {},
   "source": [
    "4. Use the reindex method on df1 and add the row \"B\""
   ]
  },
  {
   "cell_type": "code",
   "execution_count": 13,
   "metadata": {},
   "outputs": [
    {
     "data": {
      "text/html": [
       "<div>\n",
       "<style scoped>\n",
       "    .dataframe tbody tr th:only-of-type {\n",
       "        vertical-align: middle;\n",
       "    }\n",
       "\n",
       "    .dataframe tbody tr th {\n",
       "        vertical-align: top;\n",
       "    }\n",
       "\n",
       "    .dataframe thead th {\n",
       "        text-align: right;\n",
       "    }\n",
       "</style>\n",
       "<table border=\"1\" class=\"dataframe\">\n",
       "  <thead>\n",
       "    <tr style=\"text-align: right;\">\n",
       "      <th></th>\n",
       "      <th>CL1</th>\n",
       "      <th>CL2</th>\n",
       "      <th>CL3</th>\n",
       "      <th>CL4</th>\n",
       "    </tr>\n",
       "  </thead>\n",
       "  <tbody>\n",
       "    <tr>\n",
       "      <th>A</th>\n",
       "      <td>0.640699</td>\n",
       "      <td>-0.006177</td>\n",
       "      <td>-0.250094</td>\n",
       "      <td>1.202516</td>\n",
       "    </tr>\n",
       "    <tr>\n",
       "      <th>B</th>\n",
       "      <td>NaN</td>\n",
       "      <td>NaN</td>\n",
       "      <td>NaN</td>\n",
       "      <td>NaN</td>\n",
       "    </tr>\n",
       "    <tr>\n",
       "      <th>D</th>\n",
       "      <td>-0.904062</td>\n",
       "      <td>0.748743</td>\n",
       "      <td>0.615914</td>\n",
       "      <td>0.847730</td>\n",
       "    </tr>\n",
       "    <tr>\n",
       "      <th>E</th>\n",
       "      <td>-0.491603</td>\n",
       "      <td>-0.627327</td>\n",
       "      <td>1.490700</td>\n",
       "      <td>-2.007773</td>\n",
       "    </tr>\n",
       "    <tr>\n",
       "      <th>F</th>\n",
       "      <td>0.334444</td>\n",
       "      <td>1.964098</td>\n",
       "      <td>-0.261792</td>\n",
       "      <td>0.155713</td>\n",
       "    </tr>\n",
       "    <tr>\n",
       "      <th>G</th>\n",
       "      <td>3.213473</td>\n",
       "      <td>-1.573144</td>\n",
       "      <td>0.402144</td>\n",
       "      <td>-1.926897</td>\n",
       "    </tr>\n",
       "  </tbody>\n",
       "</table>\n",
       "</div>"
      ],
      "text/plain": [
       "        CL1       CL2       CL3       CL4\n",
       "A  0.640699 -0.006177 -0.250094  1.202516\n",
       "B       NaN       NaN       NaN       NaN\n",
       "D -0.904062  0.748743  0.615914  0.847730\n",
       "E -0.491603 -0.627327  1.490700 -2.007773\n",
       "F  0.334444  1.964098 -0.261792  0.155713\n",
       "G  3.213473 -1.573144  0.402144 -1.926897"
      ]
     },
     "execution_count": 13,
     "metadata": {},
     "output_type": "execute_result"
    }
   ],
   "source": [
    "# Add row B\n",
    "df2=df1.reindex(index=['A','B','D','E','F','G'])\n",
    "df2"
   ]
  },
  {
   "cell_type": "markdown",
   "metadata": {},
   "source": [
    "5. Use the reindex method on df1 and add a new column \"CL5\""
   ]
  },
  {
   "cell_type": "code",
   "execution_count": 19,
   "metadata": {},
   "outputs": [
    {
     "data": {
      "text/html": [
       "<div>\n",
       "<style scoped>\n",
       "    .dataframe tbody tr th:only-of-type {\n",
       "        vertical-align: middle;\n",
       "    }\n",
       "\n",
       "    .dataframe tbody tr th {\n",
       "        vertical-align: top;\n",
       "    }\n",
       "\n",
       "    .dataframe thead th {\n",
       "        text-align: right;\n",
       "    }\n",
       "</style>\n",
       "<table border=\"1\" class=\"dataframe\">\n",
       "  <thead>\n",
       "    <tr style=\"text-align: right;\">\n",
       "      <th></th>\n",
       "      <th>CL1</th>\n",
       "      <th>CL2</th>\n",
       "      <th>CL3</th>\n",
       "      <th>CL4</th>\n",
       "      <th>CL5</th>\n",
       "    </tr>\n",
       "  </thead>\n",
       "  <tbody>\n",
       "    <tr>\n",
       "      <th>A</th>\n",
       "      <td>0.640699</td>\n",
       "      <td>-0.006177</td>\n",
       "      <td>-0.250094</td>\n",
       "      <td>1.202516</td>\n",
       "      <td>NaN</td>\n",
       "    </tr>\n",
       "    <tr>\n",
       "      <th>B</th>\n",
       "      <td>NaN</td>\n",
       "      <td>NaN</td>\n",
       "      <td>NaN</td>\n",
       "      <td>NaN</td>\n",
       "      <td>NaN</td>\n",
       "    </tr>\n",
       "    <tr>\n",
       "      <th>D</th>\n",
       "      <td>-0.904062</td>\n",
       "      <td>0.748743</td>\n",
       "      <td>0.615914</td>\n",
       "      <td>0.847730</td>\n",
       "      <td>NaN</td>\n",
       "    </tr>\n",
       "    <tr>\n",
       "      <th>E</th>\n",
       "      <td>-0.491603</td>\n",
       "      <td>-0.627327</td>\n",
       "      <td>1.490700</td>\n",
       "      <td>-2.007773</td>\n",
       "      <td>NaN</td>\n",
       "    </tr>\n",
       "    <tr>\n",
       "      <th>F</th>\n",
       "      <td>0.334444</td>\n",
       "      <td>1.964098</td>\n",
       "      <td>-0.261792</td>\n",
       "      <td>0.155713</td>\n",
       "      <td>NaN</td>\n",
       "    </tr>\n",
       "    <tr>\n",
       "      <th>G</th>\n",
       "      <td>3.213473</td>\n",
       "      <td>-1.573144</td>\n",
       "      <td>0.402144</td>\n",
       "      <td>-1.926897</td>\n",
       "      <td>NaN</td>\n",
       "    </tr>\n",
       "  </tbody>\n",
       "</table>\n",
       "</div>"
      ],
      "text/plain": [
       "        CL1       CL2       CL3       CL4  CL5\n",
       "A  0.640699 -0.006177 -0.250094  1.202516  NaN\n",
       "B       NaN       NaN       NaN       NaN  NaN\n",
       "D -0.904062  0.748743  0.615914  0.847730  NaN\n",
       "E -0.491603 -0.627327  1.490700 -2.007773  NaN\n",
       "F  0.334444  1.964098 -0.261792  0.155713  NaN\n",
       "G  3.213473 -1.573144  0.402144 -1.926897  NaN"
      ]
     },
     "execution_count": 19,
     "metadata": {},
     "output_type": "execute_result"
    }
   ],
   "source": [
    "# Add new column CL5\n",
    "df2=df2.reindex(columns=['CL1','CL2','CL3','CL4','CL5'])\n",
    "df2"
   ]
  },
  {
   "cell_type": "markdown",
   "metadata": {},
   "source": [
    "### Rename columns\n",
    "\n",
    "5. Use the .rename() method and rename the column of df1 to ('A1','B2','C3','D4')"
   ]
  },
  {
   "cell_type": "code",
   "execution_count": 24,
   "metadata": {},
   "outputs": [
    {
     "data": {
      "text/html": [
       "<div>\n",
       "<style scoped>\n",
       "    .dataframe tbody tr th:only-of-type {\n",
       "        vertical-align: middle;\n",
       "    }\n",
       "\n",
       "    .dataframe tbody tr th {\n",
       "        vertical-align: top;\n",
       "    }\n",
       "\n",
       "    .dataframe thead th {\n",
       "        text-align: right;\n",
       "    }\n",
       "</style>\n",
       "<table border=\"1\" class=\"dataframe\">\n",
       "  <thead>\n",
       "    <tr style=\"text-align: right;\">\n",
       "      <th></th>\n",
       "      <th>A1</th>\n",
       "      <th>B2</th>\n",
       "      <th>C3</th>\n",
       "      <th>D4</th>\n",
       "      <th>La madonna</th>\n",
       "    </tr>\n",
       "  </thead>\n",
       "  <tbody>\n",
       "    <tr>\n",
       "      <th>A</th>\n",
       "      <td>0.640699</td>\n",
       "      <td>-0.006177</td>\n",
       "      <td>-0.250094</td>\n",
       "      <td>1.202516</td>\n",
       "      <td>NaN</td>\n",
       "    </tr>\n",
       "    <tr>\n",
       "      <th>B</th>\n",
       "      <td>NaN</td>\n",
       "      <td>NaN</td>\n",
       "      <td>NaN</td>\n",
       "      <td>NaN</td>\n",
       "      <td>NaN</td>\n",
       "    </tr>\n",
       "    <tr>\n",
       "      <th>D</th>\n",
       "      <td>-0.904062</td>\n",
       "      <td>0.748743</td>\n",
       "      <td>0.615914</td>\n",
       "      <td>0.847730</td>\n",
       "      <td>NaN</td>\n",
       "    </tr>\n",
       "    <tr>\n",
       "      <th>E</th>\n",
       "      <td>-0.491603</td>\n",
       "      <td>-0.627327</td>\n",
       "      <td>1.490700</td>\n",
       "      <td>-2.007773</td>\n",
       "      <td>NaN</td>\n",
       "    </tr>\n",
       "    <tr>\n",
       "      <th>F</th>\n",
       "      <td>0.334444</td>\n",
       "      <td>1.964098</td>\n",
       "      <td>-0.261792</td>\n",
       "      <td>0.155713</td>\n",
       "      <td>NaN</td>\n",
       "    </tr>\n",
       "    <tr>\n",
       "      <th>G</th>\n",
       "      <td>3.213473</td>\n",
       "      <td>-1.573144</td>\n",
       "      <td>0.402144</td>\n",
       "      <td>-1.926897</td>\n",
       "      <td>NaN</td>\n",
       "    </tr>\n",
       "  </tbody>\n",
       "</table>\n",
       "</div>"
      ],
      "text/plain": [
       "         A1        B2        C3        D4  La madonna\n",
       "A  0.640699 -0.006177 -0.250094  1.202516         NaN\n",
       "B       NaN       NaN       NaN       NaN         NaN\n",
       "D -0.904062  0.748743  0.615914  0.847730         NaN\n",
       "E -0.491603 -0.627327  1.490700 -2.007773         NaN\n",
       "F  0.334444  1.964098 -0.261792  0.155713         NaN\n",
       "G  3.213473 -1.573144  0.402144 -1.926897         NaN"
      ]
     },
     "execution_count": 24,
     "metadata": {},
     "output_type": "execute_result"
    }
   ],
   "source": [
    "# Rename df1 columns\n",
    "df2.rename(columns= {'CL1':'A1', 'CL2':'B2','CL3':'C3','CL4':'D4','CL5':'La madonna'})"
   ]
  },
  {
   "cell_type": "code",
   "execution_count": null,
   "metadata": {},
   "outputs": [],
   "source": []
  },
  {
   "cell_type": "markdown",
   "metadata": {},
   "source": [
    "# Congratulation! Exercises completed!"
   ]
  },
  {
   "cell_type": "code",
   "execution_count": null,
   "metadata": {},
   "outputs": [],
   "source": []
  }
 ],
 "metadata": {
  "kernelspec": {
   "display_name": "Python 3",
   "language": "python",
   "name": "python3"
  },
  "language_info": {
   "codemirror_mode": {
    "name": "ipython",
    "version": 3
   },
   "file_extension": ".py",
   "mimetype": "text/x-python",
   "name": "python",
   "nbconvert_exporter": "python",
   "pygments_lexer": "ipython3",
   "version": "3.7.3"
  }
 },
 "nbformat": 4,
 "nbformat_minor": 1
}
