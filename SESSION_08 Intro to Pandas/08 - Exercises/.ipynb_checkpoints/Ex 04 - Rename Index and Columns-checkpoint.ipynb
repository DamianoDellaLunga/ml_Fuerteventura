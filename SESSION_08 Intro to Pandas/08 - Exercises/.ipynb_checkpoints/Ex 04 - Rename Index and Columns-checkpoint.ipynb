{
 "cells": [
  {
   "cell_type": "markdown",
   "metadata": {},
   "source": [
    "# Intro to Pandas\n",
    "\n",
    "## Rename Index and Columns Exercises"
   ]
  },
  {
   "cell_type": "markdown",
   "metadata": {},
   "source": [
    "1. Import Pandas and Numpy"
   ]
  },
  {
   "cell_type": "code",
   "execution_count": 1,
   "metadata": {},
   "outputs": [],
   "source": [
    "# Basic imports\n",
    "\n",
    "import numpy as np\n",
    "from pandas import Series,DataFrame\n",
    "import pandas as pd"
   ]
  },
  {
   "cell_type": "markdown",
   "metadata": {},
   "source": [
    "#### Use the following DF "
   ]
  },
  {
   "cell_type": "code",
   "execution_count": 2,
   "metadata": {},
   "outputs": [
    {
     "data": {
      "text/html": [
       "<div>\n",
       "<style scoped>\n",
       "    .dataframe tbody tr th:only-of-type {\n",
       "        vertical-align: middle;\n",
       "    }\n",
       "\n",
       "    .dataframe tbody tr th {\n",
       "        vertical-align: top;\n",
       "    }\n",
       "\n",
       "    .dataframe thead th {\n",
       "        text-align: right;\n",
       "    }\n",
       "</style>\n",
       "<table border=\"1\" class=\"dataframe\">\n",
       "  <thead>\n",
       "    <tr style=\"text-align: right;\">\n",
       "      <th></th>\n",
       "      <th>Col1</th>\n",
       "      <th>Col2</th>\n",
       "      <th>Col3</th>\n",
       "      <th>Col4</th>\n",
       "    </tr>\n",
       "  </thead>\n",
       "  <tbody>\n",
       "    <tr>\n",
       "      <th>A</th>\n",
       "      <td>-0.222474</td>\n",
       "      <td>-0.936623</td>\n",
       "      <td>0.014823</td>\n",
       "      <td>0.355336</td>\n",
       "    </tr>\n",
       "    <tr>\n",
       "      <th>B</th>\n",
       "      <td>1.307498</td>\n",
       "      <td>-1.119087</td>\n",
       "      <td>0.994633</td>\n",
       "      <td>-0.702565</td>\n",
       "    </tr>\n",
       "    <tr>\n",
       "      <th>C</th>\n",
       "      <td>-0.164466</td>\n",
       "      <td>-0.644205</td>\n",
       "      <td>0.309088</td>\n",
       "      <td>1.322840</td>\n",
       "    </tr>\n",
       "    <tr>\n",
       "      <th>D</th>\n",
       "      <td>1.606476</td>\n",
       "      <td>1.215661</td>\n",
       "      <td>0.684424</td>\n",
       "      <td>1.331813</td>\n",
       "    </tr>\n",
       "  </tbody>\n",
       "</table>\n",
       "</div>"
      ],
      "text/plain": [
       "       Col1      Col2      Col3      Col4\n",
       "A -0.222474 -0.936623  0.014823  0.355336\n",
       "B  1.307498 -1.119087  0.994633 -0.702565\n",
       "C -0.164466 -0.644205  0.309088  1.322840\n",
       "D  1.606476  1.215661  0.684424  1.331813"
      ]
     },
     "execution_count": 2,
     "metadata": {},
     "output_type": "execute_result"
    }
   ],
   "source": [
    "# set the data\n",
    "npdata = np.random.randn(16).reshape(4,4)\n",
    "\n",
    "# Create the DF\n",
    "df = DataFrame(data= npdata, index = ['A', 'B', 'C', 'D'], columns= ['Col1', 'Col2', 'Col3', 'Col4'])\n",
    "\n",
    "# Show\n",
    "df"
   ]
  },
  {
   "cell_type": "markdown",
   "metadata": {},
   "source": [
    "## The .rename() method"
   ]
  },
  {
   "cell_type": "markdown",
   "metadata": {},
   "source": [
    "1. Put all the rows indexes lower case"
   ]
  },
  {
   "cell_type": "code",
   "execution_count": 3,
   "metadata": {},
   "outputs": [
    {
     "data": {
      "text/html": [
       "<div>\n",
       "<style scoped>\n",
       "    .dataframe tbody tr th:only-of-type {\n",
       "        vertical-align: middle;\n",
       "    }\n",
       "\n",
       "    .dataframe tbody tr th {\n",
       "        vertical-align: top;\n",
       "    }\n",
       "\n",
       "    .dataframe thead th {\n",
       "        text-align: right;\n",
       "    }\n",
       "</style>\n",
       "<table border=\"1\" class=\"dataframe\">\n",
       "  <thead>\n",
       "    <tr style=\"text-align: right;\">\n",
       "      <th></th>\n",
       "      <th>Col1</th>\n",
       "      <th>Col2</th>\n",
       "      <th>Col3</th>\n",
       "      <th>Col4</th>\n",
       "    </tr>\n",
       "  </thead>\n",
       "  <tbody>\n",
       "    <tr>\n",
       "      <th>a</th>\n",
       "      <td>-0.222474</td>\n",
       "      <td>-0.936623</td>\n",
       "      <td>0.014823</td>\n",
       "      <td>0.355336</td>\n",
       "    </tr>\n",
       "    <tr>\n",
       "      <th>b</th>\n",
       "      <td>1.307498</td>\n",
       "      <td>-1.119087</td>\n",
       "      <td>0.994633</td>\n",
       "      <td>-0.702565</td>\n",
       "    </tr>\n",
       "    <tr>\n",
       "      <th>c</th>\n",
       "      <td>-0.164466</td>\n",
       "      <td>-0.644205</td>\n",
       "      <td>0.309088</td>\n",
       "      <td>1.322840</td>\n",
       "    </tr>\n",
       "    <tr>\n",
       "      <th>d</th>\n",
       "      <td>1.606476</td>\n",
       "      <td>1.215661</td>\n",
       "      <td>0.684424</td>\n",
       "      <td>1.331813</td>\n",
       "    </tr>\n",
       "  </tbody>\n",
       "</table>\n",
       "</div>"
      ],
      "text/plain": [
       "       Col1      Col2      Col3      Col4\n",
       "a -0.222474 -0.936623  0.014823  0.355336\n",
       "b  1.307498 -1.119087  0.994633 -0.702565\n",
       "c -0.164466 -0.644205  0.309088  1.322840\n",
       "d  1.606476  1.215661  0.684424  1.331813"
      ]
     },
     "execution_count": 3,
     "metadata": {},
     "output_type": "execute_result"
    }
   ],
   "source": [
    "# Rows lower\n",
    "df.rename(str.lower, axis='index')"
   ]
  },
  {
   "cell_type": "markdown",
   "metadata": {},
   "source": [
    "2. Put all the columns name upper case"
   ]
  },
  {
   "cell_type": "code",
   "execution_count": 4,
   "metadata": {},
   "outputs": [
    {
     "data": {
      "text/html": [
       "<div>\n",
       "<style scoped>\n",
       "    .dataframe tbody tr th:only-of-type {\n",
       "        vertical-align: middle;\n",
       "    }\n",
       "\n",
       "    .dataframe tbody tr th {\n",
       "        vertical-align: top;\n",
       "    }\n",
       "\n",
       "    .dataframe thead th {\n",
       "        text-align: right;\n",
       "    }\n",
       "</style>\n",
       "<table border=\"1\" class=\"dataframe\">\n",
       "  <thead>\n",
       "    <tr style=\"text-align: right;\">\n",
       "      <th></th>\n",
       "      <th>COL1</th>\n",
       "      <th>COL2</th>\n",
       "      <th>COL3</th>\n",
       "      <th>COL4</th>\n",
       "    </tr>\n",
       "  </thead>\n",
       "  <tbody>\n",
       "    <tr>\n",
       "      <th>A</th>\n",
       "      <td>-0.222474</td>\n",
       "      <td>-0.936623</td>\n",
       "      <td>0.014823</td>\n",
       "      <td>0.355336</td>\n",
       "    </tr>\n",
       "    <tr>\n",
       "      <th>B</th>\n",
       "      <td>1.307498</td>\n",
       "      <td>-1.119087</td>\n",
       "      <td>0.994633</td>\n",
       "      <td>-0.702565</td>\n",
       "    </tr>\n",
       "    <tr>\n",
       "      <th>C</th>\n",
       "      <td>-0.164466</td>\n",
       "      <td>-0.644205</td>\n",
       "      <td>0.309088</td>\n",
       "      <td>1.322840</td>\n",
       "    </tr>\n",
       "    <tr>\n",
       "      <th>D</th>\n",
       "      <td>1.606476</td>\n",
       "      <td>1.215661</td>\n",
       "      <td>0.684424</td>\n",
       "      <td>1.331813</td>\n",
       "    </tr>\n",
       "  </tbody>\n",
       "</table>\n",
       "</div>"
      ],
      "text/plain": [
       "       COL1      COL2      COL3      COL4\n",
       "A -0.222474 -0.936623  0.014823  0.355336\n",
       "B  1.307498 -1.119087  0.994633 -0.702565\n",
       "C -0.164466 -0.644205  0.309088  1.322840\n",
       "D  1.606476  1.215661  0.684424  1.331813"
      ]
     },
     "execution_count": 4,
     "metadata": {},
     "output_type": "execute_result"
    }
   ],
   "source": [
    "# Columns upper\n",
    "\n",
    "df.rename(str.upper, axis='columns')"
   ]
  },
  {
   "cell_type": "markdown",
   "metadata": {},
   "source": [
    "### Rename using mapping\n",
    "\n",
    "3. Rename all the rows with the following names ('alfa', 'beta', 'gamma', 'teta')"
   ]
  },
  {
   "cell_type": "code",
   "execution_count": 6,
   "metadata": {},
   "outputs": [
    {
     "data": {
      "text/html": [
       "<div>\n",
       "<style scoped>\n",
       "    .dataframe tbody tr th:only-of-type {\n",
       "        vertical-align: middle;\n",
       "    }\n",
       "\n",
       "    .dataframe tbody tr th {\n",
       "        vertical-align: top;\n",
       "    }\n",
       "\n",
       "    .dataframe thead th {\n",
       "        text-align: right;\n",
       "    }\n",
       "</style>\n",
       "<table border=\"1\" class=\"dataframe\">\n",
       "  <thead>\n",
       "    <tr style=\"text-align: right;\">\n",
       "      <th></th>\n",
       "      <th>Col1</th>\n",
       "      <th>Col2</th>\n",
       "      <th>Col3</th>\n",
       "      <th>Col4</th>\n",
       "    </tr>\n",
       "  </thead>\n",
       "  <tbody>\n",
       "    <tr>\n",
       "      <th>alfa</th>\n",
       "      <td>-0.222474</td>\n",
       "      <td>-0.936623</td>\n",
       "      <td>0.014823</td>\n",
       "      <td>0.355336</td>\n",
       "    </tr>\n",
       "    <tr>\n",
       "      <th>beta</th>\n",
       "      <td>1.307498</td>\n",
       "      <td>-1.119087</td>\n",
       "      <td>0.994633</td>\n",
       "      <td>-0.702565</td>\n",
       "    </tr>\n",
       "    <tr>\n",
       "      <th>gamma</th>\n",
       "      <td>-0.164466</td>\n",
       "      <td>-0.644205</td>\n",
       "      <td>0.309088</td>\n",
       "      <td>1.322840</td>\n",
       "    </tr>\n",
       "    <tr>\n",
       "      <th>delta</th>\n",
       "      <td>1.606476</td>\n",
       "      <td>1.215661</td>\n",
       "      <td>0.684424</td>\n",
       "      <td>1.331813</td>\n",
       "    </tr>\n",
       "  </tbody>\n",
       "</table>\n",
       "</div>"
      ],
      "text/plain": [
       "           Col1      Col2      Col3      Col4\n",
       "alfa  -0.222474 -0.936623  0.014823  0.355336\n",
       "beta   1.307498 -1.119087  0.994633 -0.702565\n",
       "gamma -0.164466 -0.644205  0.309088  1.322840\n",
       "delta  1.606476  1.215661  0.684424  1.331813"
      ]
     },
     "execution_count": 6,
     "metadata": {},
     "output_type": "execute_result"
    }
   ],
   "source": [
    "# Rename index\n",
    "df.rename(index={'A':'alfa','B':'beta','C':'gamma','D':'delta'})"
   ]
  },
  {
   "cell_type": "markdown",
   "metadata": {},
   "source": [
    "4. Rename 'Col1' to 'A1' and 'Col4' to 'D4'"
   ]
  },
  {
   "cell_type": "code",
   "execution_count": 7,
   "metadata": {},
   "outputs": [
    {
     "data": {
      "text/html": [
       "<div>\n",
       "<style scoped>\n",
       "    .dataframe tbody tr th:only-of-type {\n",
       "        vertical-align: middle;\n",
       "    }\n",
       "\n",
       "    .dataframe tbody tr th {\n",
       "        vertical-align: top;\n",
       "    }\n",
       "\n",
       "    .dataframe thead th {\n",
       "        text-align: right;\n",
       "    }\n",
       "</style>\n",
       "<table border=\"1\" class=\"dataframe\">\n",
       "  <thead>\n",
       "    <tr style=\"text-align: right;\">\n",
       "      <th></th>\n",
       "      <th>A1</th>\n",
       "      <th>Col2</th>\n",
       "      <th>Col3</th>\n",
       "      <th>D4</th>\n",
       "    </tr>\n",
       "  </thead>\n",
       "  <tbody>\n",
       "    <tr>\n",
       "      <th>A</th>\n",
       "      <td>-0.222474</td>\n",
       "      <td>-0.936623</td>\n",
       "      <td>0.014823</td>\n",
       "      <td>0.355336</td>\n",
       "    </tr>\n",
       "    <tr>\n",
       "      <th>B</th>\n",
       "      <td>1.307498</td>\n",
       "      <td>-1.119087</td>\n",
       "      <td>0.994633</td>\n",
       "      <td>-0.702565</td>\n",
       "    </tr>\n",
       "    <tr>\n",
       "      <th>C</th>\n",
       "      <td>-0.164466</td>\n",
       "      <td>-0.644205</td>\n",
       "      <td>0.309088</td>\n",
       "      <td>1.322840</td>\n",
       "    </tr>\n",
       "    <tr>\n",
       "      <th>D</th>\n",
       "      <td>1.606476</td>\n",
       "      <td>1.215661</td>\n",
       "      <td>0.684424</td>\n",
       "      <td>1.331813</td>\n",
       "    </tr>\n",
       "  </tbody>\n",
       "</table>\n",
       "</div>"
      ],
      "text/plain": [
       "         A1      Col2      Col3        D4\n",
       "A -0.222474 -0.936623  0.014823  0.355336\n",
       "B  1.307498 -1.119087  0.994633 -0.702565\n",
       "C -0.164466 -0.644205  0.309088  1.322840\n",
       "D  1.606476  1.215661  0.684424  1.331813"
      ]
     },
     "execution_count": 7,
     "metadata": {},
     "output_type": "execute_result"
    }
   ],
   "source": [
    "# Rename columns\n",
    "df.rename(columns={'Col1':'A1','Col4':'D4'})"
   ]
  },
  {
   "cell_type": "markdown",
   "metadata": {},
   "source": [
    "5. Rename again all the columns of the df using the following list."
   ]
  },
  {
   "cell_type": "code",
   "execution_count": null,
   "metadata": {},
   "outputs": [],
   "source": [
    "new_cols = ['ab','bc','cd','df']"
   ]
  },
  {
   "cell_type": "code",
   "execution_count": 9,
   "metadata": {},
   "outputs": [
    {
     "data": {
      "text/html": [
       "<div>\n",
       "<style scoped>\n",
       "    .dataframe tbody tr th:only-of-type {\n",
       "        vertical-align: middle;\n",
       "    }\n",
       "\n",
       "    .dataframe tbody tr th {\n",
       "        vertical-align: top;\n",
       "    }\n",
       "\n",
       "    .dataframe thead th {\n",
       "        text-align: right;\n",
       "    }\n",
       "</style>\n",
       "<table border=\"1\" class=\"dataframe\">\n",
       "  <thead>\n",
       "    <tr style=\"text-align: right;\">\n",
       "      <th></th>\n",
       "      <th>ab</th>\n",
       "      <th>bc</th>\n",
       "      <th>cd</th>\n",
       "      <th>df</th>\n",
       "    </tr>\n",
       "  </thead>\n",
       "  <tbody>\n",
       "    <tr>\n",
       "      <th>A</th>\n",
       "      <td>-0.222474</td>\n",
       "      <td>-0.936623</td>\n",
       "      <td>0.014823</td>\n",
       "      <td>0.355336</td>\n",
       "    </tr>\n",
       "    <tr>\n",
       "      <th>B</th>\n",
       "      <td>1.307498</td>\n",
       "      <td>-1.119087</td>\n",
       "      <td>0.994633</td>\n",
       "      <td>-0.702565</td>\n",
       "    </tr>\n",
       "    <tr>\n",
       "      <th>C</th>\n",
       "      <td>-0.164466</td>\n",
       "      <td>-0.644205</td>\n",
       "      <td>0.309088</td>\n",
       "      <td>1.322840</td>\n",
       "    </tr>\n",
       "    <tr>\n",
       "      <th>D</th>\n",
       "      <td>1.606476</td>\n",
       "      <td>1.215661</td>\n",
       "      <td>0.684424</td>\n",
       "      <td>1.331813</td>\n",
       "    </tr>\n",
       "  </tbody>\n",
       "</table>\n",
       "</div>"
      ],
      "text/plain": [
       "         ab        bc        cd        df\n",
       "A -0.222474 -0.936623  0.014823  0.355336\n",
       "B  1.307498 -1.119087  0.994633 -0.702565\n",
       "C -0.164466 -0.644205  0.309088  1.322840\n",
       "D  1.606476  1.215661  0.684424  1.331813"
      ]
     },
     "execution_count": 9,
     "metadata": {},
     "output_type": "execute_result"
    }
   ],
   "source": [
    "# Rename again df\n",
    "df.columns=['ab','bc','cd','df']\n",
    "df"
   ]
  },
  {
   "cell_type": "markdown",
   "metadata": {},
   "source": [
    "# Good Job!"
   ]
  },
  {
   "cell_type": "code",
   "execution_count": null,
   "metadata": {},
   "outputs": [],
   "source": []
  }
 ],
 "metadata": {
  "kernelspec": {
   "display_name": "Python 3",
   "language": "python",
   "name": "python3"
  },
  "language_info": {
   "codemirror_mode": {
    "name": "ipython",
    "version": 3
   },
   "file_extension": ".py",
   "mimetype": "text/x-python",
   "name": "python",
   "nbconvert_exporter": "python",
   "pygments_lexer": "ipython3",
   "version": "3.7.3"
  }
 },
 "nbformat": 4,
 "nbformat_minor": 1
}
