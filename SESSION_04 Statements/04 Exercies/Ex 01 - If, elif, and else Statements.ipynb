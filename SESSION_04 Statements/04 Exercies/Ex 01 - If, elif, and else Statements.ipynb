{
 "cells": [
  {
   "cell_type": "markdown",
   "metadata": {},
   "source": [
    "# if,elif,else Statements\n",
    "\n",
    "\n",
    "## Exercises\n",
    "\n",
    "Use the basic syntax format for the **if, elif, else**:\n",
    "\n",
    "    if condition1:\n",
    "        perform action1\n",
    "    elif condition2:\n",
    "        perform action2\n",
    "    else: \n",
    "        perform action 3"
   ]
  },
  {
   "cell_type": "markdown",
   "metadata": {},
   "source": [
    "1. Use the if statement and compare two numbers. If the condition is true print \"Condition True\" otherwise print \"Condition Fale\""
   ]
  },
  {
   "cell_type": "code",
   "execution_count": 2,
   "metadata": {},
   "outputs": [
    {
     "name": "stdout",
     "output_type": "stream",
     "text": [
      "True\n"
     ]
    }
   ],
   "source": [
    "if 3<4:\n",
    "    print(True)\n",
    "else: \n",
    "    print(False)"
   ]
  },
  {
   "cell_type": "markdown",
   "metadata": {},
   "source": [
    "2. Use the code belowe and print out if the number is positive or negative"
   ]
  },
  {
   "cell_type": "code",
   "execution_count": 5,
   "metadata": {},
   "outputs": [
    {
     "name": "stdout",
     "output_type": "stream",
     "text": [
      "-0.18051420683970337\n",
      "is fucking negative\n"
     ]
    }
   ],
   "source": [
    "import numpy as np\n",
    "number = np.random.randn()\n",
    "number\n",
    "print(number)\n",
    "\n",
    "# Insert here your if, elif, else statement\n",
    "if number<=0:\n",
    "    print('is fucking negative')\n",
    "else:\n",
    "    print('hell yeah, positive')"
   ]
  },
  {
   "cell_type": "markdown",
   "metadata": {},
   "source": [
    "3. Use the code belowe and print out if the number generated is >1, <1 or -1<number<1"
   ]
  },
  {
   "cell_type": "code",
   "execution_count": 13,
   "metadata": {},
   "outputs": [
    {
     "name": "stdout",
     "output_type": "stream",
     "text": [
      "-0.4883983955270563\n",
      "is between -1 and 1\n"
     ]
    }
   ],
   "source": [
    "import numpy as np\n",
    "number = np.random.randn()\n",
    "number\n",
    "print(number)\n",
    "# Insert here your if, elif, else statement\n",
    "if number>1:\n",
    "    print('is fucking more than 1')\n",
    "elif number<-1:\n",
    "    print('is fucking less than -1')\n",
    "else:\n",
    "    print('is between -1 and 1')"
   ]
  },
  {
   "cell_type": "code",
   "execution_count": null,
   "metadata": {},
   "outputs": [],
   "source": []
  },
  {
   "cell_type": "markdown",
   "metadata": {
    "collapsed": true
   },
   "source": [
    "## Nice Job!"
   ]
  },
  {
   "cell_type": "code",
   "execution_count": null,
   "metadata": {},
   "outputs": [],
   "source": []
  }
 ],
 "metadata": {
  "kernelspec": {
   "display_name": "Python 3",
   "language": "python",
   "name": "python3"
  },
  "language_info": {
   "codemirror_mode": {
    "name": "ipython",
    "version": 3
   },
   "file_extension": ".py",
   "mimetype": "text/x-python",
   "name": "python",
   "nbconvert_exporter": "python",
   "pygments_lexer": "ipython3",
   "version": "3.7.3"
  }
 },
 "nbformat": 4,
 "nbformat_minor": 1
}
